{
 "cells": [
  {
   "cell_type": "code",
   "execution_count": 3,
   "metadata": {
    "collapsed": true
   },
   "outputs": [],
   "source": [
    "from nltk import word_tokenize\n",
    "from nltk.tokenize import sent_tokenize\n",
    "from nltk.corpus import reuters\n",
    "import pandas as pd\n",
    "import numpy as np\n",
    "np.set_printoptions(threshold=np.nan)"
   ]
  },
  {
   "cell_type": "code",
   "execution_count": 4,
   "metadata": {},
   "outputs": [],
   "source": [
    "data_1 = np.asarray(pd.read_csv('./first_batch.csv', sep='\\t', encoding='latin-1', header=None))\n",
    "data_2 = np.asarray(pd.read_csv('./second_batch.csv', sep='\\t', encoding='latin-1', header=None))\n",
    "data_3 = np.asarray(pd.read_csv('./third_batch.csv', sep='\\t', encoding='latin-1', header=None))\n",
    "data_4 = np.asarray(pd.read_csv('./fourth_batch.csv', sep='\\t', encoding='latin-1', header=None))\n",
    "\n",
    "data_concat = np.r_[data_1, data_2, data_3, data_4]\n",
    "keywords = np.asarray(pd.read_csv('./keywords.txt', sep=',', encoding='latin-1', header=None))[0]"
   ]
  },
  {
   "cell_type": "code",
   "execution_count": 5,
   "metadata": {
    "collapsed": true
   },
   "outputs": [],
   "source": [
    "# CLEAN KEYWORD LIST\n",
    "keywords = [(w.lower().strip()) for w in keywords if w in keywords]\n",
    "keywords = list(set(keywords))"
   ]
  },
  {
   "cell_type": "code",
   "execution_count": 6,
   "metadata": {
    "collapsed": true
   },
   "outputs": [],
   "source": [
    "\"\"\"\n",
    "TO ADD A NEW KEYWORD\n",
    "# keywords.append('guy')\n",
    "\n",
    "TO REMOVE A KEYWORD\n",
    "# keywords.remove('guy')\n",
    "\n",
    "if a list of keywords need to be added,\n",
    "    call the function\n",
    "    add_more_keywords(keywords, ['you', 'can', 'add', 'more', 'like', 'this'])\n",
    "\n",
    "if the list is too long,\n",
    "    it's faster to copy paste the list directly to 'keywords.txt' file and save\n",
    "    Then re-import the keywords file\n",
    "\"\"\"\n",
    "\n",
    "def add_more_keywords(keywords, new_keys):\n",
    "    for w in new_keys:\n",
    "        keywords.append(w)\n",
    "    # return nothing: append directly applied to 'keywords' variable\n",
    "    "
   ]
  },
  {
   "cell_type": "code",
   "execution_count": 7,
   "metadata": {
    "collapsed": true
   },
   "outputs": [],
   "source": [
    "def save_csv(batch, file_name):\n",
    "    batch = np.asarray(batch)\n",
    "    pd_df = pd.DataFrame(batch)\n",
    "    pd_df.to_csv(file_name, index = False, header = False)"
   ]
  },
  {
   "cell_type": "code",
   "execution_count": 8,
   "metadata": {
    "collapsed": true
   },
   "outputs": [],
   "source": [
    "\"\"\"\n",
    "REMOVE SENTENCES WITH SPECIFIC KEYWORDS\n",
    "**sentences with the keywords removed**\n",
    "\n",
    "call function example:\n",
    "\n",
    "remove_sents(sentence_var, ['wheels', 'car'])\n",
    "\"\"\"\n",
    "\n",
    "def remove_sents(sents, key):\n",
    "    key = [(w.lower().strip()) for w in keywords if w in keywords]\n",
    "    for sent in sents:\n",
    "        # Tokenize sentence\n",
    "        sent_tok = word_tokenize(sent.lower())\n",
    "        for w in sent_tok:\n",
    "            if w in key:\n",
    "                sents.remove(sent)\n",
    "                break\n",
    "    # return nothing cus the sentence is removed from the original sents\n",
    "\n"
   ]
  },
  {
   "cell_type": "code",
   "execution_count": 9,
   "metadata": {
    "collapsed": true
   },
   "outputs": [],
   "source": [
    "\"\"\"\n",
    "INCLUDE SENTENCES WITH SPECIFIC KEYWORDS\n",
    "**sentences with the keywords kept**\n",
    "\"\"\"\n",
    "def filter_sents(sents, key):\n",
    "    filtered = []\n",
    "    for sent in sents:\n",
    "        # Tokenize sentence\n",
    "        sent_tok = word_tokenize(sent[0].lower())\n",
    "        for w in sent_tok:\n",
    "            if w in key:\n",
    "                filtered.append(sent[0])\n",
    "                break\n",
    "    return filtered"
   ]
  },
  {
   "cell_type": "code",
   "execution_count": 10,
   "metadata": {
    "collapsed": true
   },
   "outputs": [],
   "source": [
    "filtered_sents = filter_sents(data_concat, keywords)\n",
    "filtered_sents = list(set(filtered_sents)) # remove duplicating sentences"
   ]
  },
  {
   "cell_type": "code",
   "execution_count": 11,
   "metadata": {
    "collapsed": true
   },
   "outputs": [],
   "source": [
    "save_csv(filtered_sents, './filtered_sents.csv')"
   ]
  },
  {
   "cell_type": "code",
   "execution_count": 12,
   "metadata": {},
   "outputs": [
    {
     "data": {
      "text/plain": [
       "2809"
      ]
     },
     "execution_count": 12,
     "metadata": {},
     "output_type": "execute_result"
    }
   ],
   "source": [
    "len(filtered_sents)"
   ]
  },
  {
   "cell_type": "code",
   "execution_count": null,
   "metadata": {
    "collapsed": true
   },
   "outputs": [],
   "source": []
  }
 ],
 "metadata": {
  "kernelspec": {
   "display_name": "Python 3",
   "language": "python",
   "name": "python3"
  },
  "language_info": {
   "codemirror_mode": {
    "name": "ipython",
    "version": 3
   },
   "file_extension": ".py",
   "mimetype": "text/x-python",
   "name": "python",
   "nbconvert_exporter": "python",
   "pygments_lexer": "ipython3",
   "version": "3.6.3"
  }
 },
 "nbformat": 4,
 "nbformat_minor": 2
}
